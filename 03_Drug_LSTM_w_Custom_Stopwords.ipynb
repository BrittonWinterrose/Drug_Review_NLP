{
  "nbformat": 4,
  "nbformat_minor": 0,
  "metadata": {
    "colab": {
      "name": "Drug_Data_LSTM_batch16epoch20wStops.ipynb",
      "version": "0.3.2",
      "provenance": [],
      "collapsed_sections": [],
      "toc_visible": true,
      "include_colab_link": true
    },
    "kernelspec": {
      "display_name": "Python 3",
      "language": "python",
      "name": "python3"
    }
  },
  "cells": [
    {
      "cell_type": "markdown",
      "metadata": {
        "id": "view-in-github",
        "colab_type": "text"
      },
      "source": [
        "<a href=\"https://colab.research.google.com/github/BrittonWinterrose/Drug_Review_NLP/blob/master/03_Drug_LSTM_w_Custom_Stopwords.ipynb\" target=\"_parent\"><img src=\"https://colab.research.google.com/assets/colab-badge.svg\" alt=\"Open In Colab\"/></a>"
      ]
    },
    {
      "metadata": {
        "id": "yL7AiHjRZqZJ",
        "colab_type": "text"
      },
      "cell_type": "markdown",
      "source": [
        "# Part 3 of my Drug Review Dataset Exploration\n",
        "By Britton Winterrose"
      ]
    },
    {
      "metadata": {
        "colab_type": "code",
        "id": "TaINZ_B9Ss39",
        "outputId": "1ee5c268-f4bf-449e-9f35-2ca97faaca82",
        "colab": {
          "base_uri": "https://localhost:8080/",
          "height": 34
        }
      },
      "cell_type": "code",
      "source": [
        "# If in GOOGLE COLAB\n",
        "# Install the PyDrive wrapper & import libraries.\n",
        "# This only needs to be done once in a notebook.\n",
        "#!pip install -U -q PyDrive\n",
        "#from pydrive.auth import GoogleAuth\n",
        "#from pydrive.drive import GoogleDrive\n",
        "#from google.colab import auth\n",
        "#from oauth2client.client import GoogleCredentials\n",
        "\n",
        "# Authenticate and create the PyDrive client.\n",
        "# This only needs to be done once in a notebook.\n",
        "#auth.authenticate_user()\n",
        "#gauth = GoogleAuth()\n",
        "#gauth.credentials = GoogleCredentials.get_application_default()\n",
        "#drive = GoogleDrive(gauth)\n",
        "\n",
        "notebookname = \"Drug_Data_\"\n",
        "variant = \"LSTM_w_stopwords_\"\n",
        "version = \"1.0_\"\n",
        "title = notebookname + variant + version\n",
        "print (title)\n",
        "\n",
        "#Data Source Citation:\n",
        "#Felix Gräßer, Surya Kallumadi, Hagen Malberg, and Sebastian Zaunseder. 2018. Aspect-Based Sentiment Analysis of Drug Reviews Applying Cross-Domain and Cross-Data Learning. In Proceedings of the 2018 International Conference on Digital Health (DH '18). ACM, New York, NY, USA, 121-125. DOI: [Web Link]"
      ],
      "execution_count": 0,
      "outputs": [
        {
          "output_type": "stream",
          "text": [
            "Drug_Data_LSTM_w_stopwords_1.0_\n"
          ],
          "name": "stdout"
        }
      ]
    },
    {
      "metadata": {
        "_cell_guid": "79c7e3d0-c299-4dcb-8224-4455121ee9b0",
        "_uuid": "d629ff2d2480ee46fbb7e2d37f6b5fab8052498a",
        "colab_type": "text",
        "collapsed": true,
        "id": "6NGVLNIkaufo"
      },
      "cell_type": "markdown",
      "source": [
        "# Import the libraries\n"
      ]
    },
    {
      "metadata": {
        "_uuid": "f4eba1700d4b192434e799cb4ec6e6f406a5c721",
        "colab_type": "code",
        "id": "PA1NUOC9aufp",
        "colab": {},
        "outputId": "b80ff838-d38d-4fd8-dc9d-506d873a8f81"
      },
      "cell_type": "code",
      "source": [
        "import pandas as pd\n",
        "import numpy as np\n",
        "import re, string, unicodedata\n",
        "\n",
        "!pip install inflect --upgrade\n",
        "!pip install tqdm --upgrade\n",
        "\n",
        "import inflect\n",
        "from string import punctuation\n",
        "from tqdm import tqdm\n",
        "\n",
        "import matplotlib.pyplot as plt\n",
        "import seaborn as sns; sns.set()\n",
        "import h5py\n",
        "import nltk\n",
        "\n",
        "from sklearn.model_selection import train_test_split\n",
        "from sklearn.preprocessing import LabelEncoder\n",
        "from sklearn.metrics import confusion_matrix, classification_report, roc_auc_score\n",
        "\n",
        "from keras.models import Model, Sequential\n",
        "from keras.models import load_model\n",
        "from keras.callbacks import EarlyStopping, ModelCheckpoint\n",
        "from keras.layers import LSTM, Activation, Dense, Dropout, Input, Embedding\n",
        "from keras.optimizers import RMSprop, SGD\n",
        "from keras.preprocessing.text import Tokenizer\n",
        "from keras.preprocessing import sequence\n",
        "from keras.preprocessing.text import text_to_word_sequence\n",
        "from keras.preprocessing.sequence import pad_sequences\n",
        "from keras.utils import to_categorical\n",
        "\n",
        "from nltk.corpus import stopwords\n",
        "from nltk.stem import SnowballStemmer\n",
        "\n",
        "\n",
        "from bs4 import BeautifulSoup\n",
        "from nltk import word_tokenize, sent_tokenize\n",
        "from nltk.corpus import stopwords\n",
        "from nltk.stem import LancasterStemmer, WordNetLemmatizer\n",
        "from nltk.tokenize import RegexpTokenizer\n",
        "\n",
        "%matplotlib inline\n"
      ],
      "execution_count": 0,
      "outputs": [
        {
          "output_type": "stream",
          "text": [
            "Requirement already up-to-date: inflect in c:\\users\\britt\\appdata\\local\\conda\\conda\\envs\\ml\\lib\\site-packages (2.1.0)\n",
            "Requirement already up-to-date: tqdm in c:\\users\\britt\\appdata\\local\\conda\\conda\\envs\\ml\\lib\\site-packages (4.28.1)\n"
          ],
          "name": "stdout"
        },
        {
          "output_type": "stream",
          "text": [
            "Using TensorFlow backend.\n"
          ],
          "name": "stderr"
        }
      ]
    },
    {
      "metadata": {
        "id": "Z1gCFh7BaH9x",
        "colab_type": "text"
      },
      "cell_type": "markdown",
      "source": [
        "## Download Stopwords and Set Parameters\n"
      ]
    },
    {
      "metadata": {
        "colab_type": "code",
        "id": "QeG52N54RNYw",
        "colab": {}
      },
      "cell_type": "code",
      "source": [
        "nltk.download('stopwords')\n",
        "\n",
        "drug_stopwords = pd.read_csv('drugname_stopwords.csv')\n",
        "drug_stopwords = drug_stopwords[\"0\"].tolist()\n",
        "print(drug_stopwords[0:5])\n",
        "\n",
        "MAX_SEQUENCE_LENGTH = 100\n",
        "MAX_NB_WORDS = 3000\n",
        "EMBEDDING_DIM = 160\n",
        "\n",
        "# max_words = 3500\n",
        "# max_len = 180\n",
        "# embedding_vector_length = 160\n"
      ],
      "execution_count": 0,
      "outputs": []
    },
    {
      "metadata": {
        "_uuid": "a915e9129e2428df7c13e44a6360ae26409ec708",
        "colab_type": "text",
        "id": "lm7rz1e-aufv"
      },
      "cell_type": "markdown",
      "source": [
        "# Read in data"
      ]
    },
    {
      "metadata": {
        "colab_type": "code",
        "id": "jVlXaRw0bvt5",
        "colab": {}
      },
      "cell_type": "code",
      "source": [
        "# Uncomment for first run.\n",
        "#!wget http://archive.ics.uci.edu/ml/machine-learning-databases/00462/drugsCom_raw.zip\n",
        "#!unzip drugsCom_raw.zip\n",
        "\n",
        "train_df = pd.read_table('drugsComTrain_raw.tsv')\n",
        "test_df = pd.read_table('drugsComTest_raw.tsv')"
      ],
      "execution_count": 0,
      "outputs": []
    },
    {
      "metadata": {
        "_uuid": "b2a09ef53963d8523a7d9365302dcda9c713023e",
        "colab_type": "text",
        "id": "3Vu7oN0eauf1"
      },
      "cell_type": "markdown",
      "source": [
        "## Split into to good/neutral/bad categories\n"
      ]
    },
    {
      "metadata": {
        "_uuid": "e50e509eddb00bd5a891cf1e99fd2cba3f671330",
        "colab_type": "code",
        "id": "mWY9vY8eaufv",
        "colab": {},
        "outputId": "27edd48f-3b2f-44b9-9bba-d0a3dc88e48b"
      },
      "cell_type": "code",
      "source": [
        "def rank_bin(array):\n",
        "  y_rank = []\n",
        "  for i in array:\n",
        "    if i <= 4: # Negative Rating Cut Off (Inclusive)\n",
        "      y_rank.append('Negative')\n",
        "    elif i >= 7: # Positive Rating Cut Off (Inclusive)\n",
        "      y_rank.append('Positive')\n",
        "    else:\n",
        "      y_rank.append('Neutral')\n",
        "  return y_rank\n",
        "\n",
        "# Assign test & train data their classes.\n",
        "train_df['classes_to_predict'] = rank_bin(train_df['rating'])\n",
        "test_df['classes_to_predict'] = rank_bin(test_df['rating'])\n",
        "\n",
        "# Make a variable to contain the class labels.\n",
        "classes_to_predict = ['Positive','Negative','Neutral']\n",
        "print(train_df['classes_to_predict'].value_counts())\n",
        "print(test_df['classes_to_predict'].value_counts()) # Check to see the bin sizes. "
      ],
      "execution_count": 0,
      "outputs": [
        {
          "output_type": "stream",
          "text": [
            "Positive    106866\n",
            "Negative     40075\n",
            "Neutral      14356\n",
            "Name: classes_to_predict, dtype: int64\n",
            "Positive    35440\n",
            "Negative    13497\n",
            "Neutral      4829\n",
            "Name: classes_to_predict, dtype: int64\n"
          ],
          "name": "stdout"
        }
      ]
    },
    {
      "metadata": {
        "_uuid": "06faf83772934e608a53a17178617f7a5278b47b",
        "colab_type": "code",
        "id": "KR5Bmayxauf2",
        "outputId": "59024f49-b244-4549-f89c-5d08b6de122d",
        "colab": {
          "base_uri": "https://localhost:8080/",
          "height": 333
        }
      },
      "cell_type": "code",
      "source": [
        "# Show the coverage for each group by its rating.\n",
        "sns.boxplot(x='classes_to_predict', y=\"rating\", data=train_df)\n",
        "plt.show()"
      ],
      "execution_count": 0,
      "outputs": [
        {
          "output_type": "display_data",
          "data": {
            "image/png": "[encoded data removed]",
            "text/plain": [
              "<Figure size 432x288 with 1 Axes>"
            ]
          },
          "metadata": {
            "tags": [],
            "needs_background": "light"
          }
        }
      ]
    },
    {
      "metadata": {
        "colab_type": "code",
        "id": "mgasJvdPeOox",
        "outputId": "296cc5dd-70d2-4011-e91a-2811040bfac0",
        "colab": {
          "base_uri": "https://localhost:8080/",
          "height": 340
        }
      },
      "cell_type": "code",
      "source": [
        "train_df.head()"
      ],
      "execution_count": 0,
      "outputs": [
        {
          "output_type": "execute_result",
          "data": {
            "text/html": [
              "<div>\n",
              "<style scoped>\n",
              "    .dataframe tbody tr th:only-of-type {\n",
              "        vertical-align: middle;\n",
              "    }\n",
              "\n",
              "    .dataframe tbody tr th {\n",
              "        vertical-align: top;\n",
              "    }\n",
              "\n",
              "    .dataframe thead th {\n",
              "        text-align: right;\n",
              "    }\n",
              "</style>\n",
              "<table border=\"1\" class=\"dataframe\">\n",
              "  <thead>\n",
              "    <tr style=\"text-align: right;\">\n",
              "      <th></th>\n",
              "      <th>Unnamed: 0</th>\n",
              "      <th>drugName</th>\n",
              "      <th>condition</th>\n",
              "      <th>review</th>\n",
              "      <th>rating</th>\n",
              "      <th>date</th>\n",
              "      <th>usefulCount</th>\n",
              "      <th>classes_to_predict</th>\n",
              "    </tr>\n",
              "  </thead>\n",
              "  <tbody>\n",
              "    <tr>\n",
              "      <th>0</th>\n",
              "      <td>206461</td>\n",
              "      <td>Valsartan</td>\n",
              "      <td>Left Ventricular Dysfunction</td>\n",
              "      <td>\"It has no side effect, I take it in combinati...</td>\n",
              "      <td>9.0</td>\n",
              "      <td>May 20, 2012</td>\n",
              "      <td>27</td>\n",
              "      <td>Positive</td>\n",
              "    </tr>\n",
              "    <tr>\n",
              "      <th>1</th>\n",
              "      <td>95260</td>\n",
              "      <td>Guanfacine</td>\n",
              "      <td>ADHD</td>\n",
              "      <td>\"My son is halfway through his fourth week of ...</td>\n",
              "      <td>8.0</td>\n",
              "      <td>April 27, 2010</td>\n",
              "      <td>192</td>\n",
              "      <td>Positive</td>\n",
              "    </tr>\n",
              "    <tr>\n",
              "      <th>2</th>\n",
              "      <td>92703</td>\n",
              "      <td>Lybrel</td>\n",
              "      <td>Birth Control</td>\n",
              "      <td>\"I used to take another oral contraceptive, wh...</td>\n",
              "      <td>5.0</td>\n",
              "      <td>December 14, 2009</td>\n",
              "      <td>17</td>\n",
              "      <td>Neutral</td>\n",
              "    </tr>\n",
              "    <tr>\n",
              "      <th>3</th>\n",
              "      <td>138000</td>\n",
              "      <td>Ortho Evra</td>\n",
              "      <td>Birth Control</td>\n",
              "      <td>\"This is my first time using any form of birth...</td>\n",
              "      <td>8.0</td>\n",
              "      <td>November 3, 2015</td>\n",
              "      <td>10</td>\n",
              "      <td>Positive</td>\n",
              "    </tr>\n",
              "    <tr>\n",
              "      <th>4</th>\n",
              "      <td>35696</td>\n",
              "      <td>Buprenorphine / naloxone</td>\n",
              "      <td>Opiate Dependence</td>\n",
              "      <td>\"Suboxone has completely turned my life around...</td>\n",
              "      <td>9.0</td>\n",
              "      <td>November 27, 2016</td>\n",
              "      <td>37</td>\n",
              "      <td>Positive</td>\n",
              "    </tr>\n",
              "  </tbody>\n",
              "</table>\n",
              "</div>"
            ],
            "text/plain": [
              "   Unnamed: 0                  drugName                     condition  \\\n",
              "0      206461                 Valsartan  Left Ventricular Dysfunction   \n",
              "1       95260                Guanfacine                          ADHD   \n",
              "2       92703                    Lybrel                 Birth Control   \n",
              "3      138000                Ortho Evra                 Birth Control   \n",
              "4       35696  Buprenorphine / naloxone             Opiate Dependence   \n",
              "\n",
              "                                              review  rating  \\\n",
              "0  \"It has no side effect, I take it in combinati...     9.0   \n",
              "1  \"My son is halfway through his fourth week of ...     8.0   \n",
              "2  \"I used to take another oral contraceptive, wh...     5.0   \n",
              "3  \"This is my first time using any form of birth...     8.0   \n",
              "4  \"Suboxone has completely turned my life around...     9.0   \n",
              "\n",
              "                date  usefulCount classes_to_predict  \n",
              "0       May 20, 2012           27           Positive  \n",
              "1     April 27, 2010          192           Positive  \n",
              "2  December 14, 2009           17            Neutral  \n",
              "3   November 3, 2015           10           Positive  \n",
              "4  November 27, 2016           37           Positive  "
            ]
          },
          "metadata": {
            "tags": []
          },
          "execution_count": 7
        }
      ]
    },
    {
      "metadata": {
        "_uuid": "bc444a0ccce09f613852fa00e4795f436ac529f4",
        "colab_type": "text",
        "id": "bHkFJB2Kauf6"
      },
      "cell_type": "markdown",
      "source": [
        "## Preprocess the text data\n"
      ]
    },
    {
      "metadata": {
        "colab_type": "code",
        "id": "9nJYV1pHTD_v",
        "outputId": "8e9bee7d-e8b9-4693-d92c-ca4dc8522ac4",
        "colab": {
          "base_uri": "https://localhost:8080/",
          "height": 85
        }
      },
      "cell_type": "code",
      "source": [
        "print('Readying the preprocessing functions')\n",
        "\n",
        "# Regex for removing non-alphanumeric characters and spaces\n",
        "remove_special_char = re.compile('r[^a-z\\d]',re.IGNORECASE)\n",
        "\n",
        "# Regex to replace all numerics\n",
        "replace_numerics = re.compile(r'\\d+',re.IGNORECASE)\n",
        "\n",
        "# F&#K Unicode Emojis\n",
        "emoji_pattern = re.compile(\"[\"\n",
        "                       u\"\\U0001F600-\\U0001F64F\"  # emoticons\n",
        "                       u\"\\U0001F300-\\U0001F5FF\"  # symbols & pictographs\n",
        "                       u\"\\U0001F680-\\U0001F6FF\"  # transport & map symbols\n",
        "                       u\"\\U0001F1E0-\\U0001F1FF\"  # flags (iOS)\n",
        "                       u\"\\U00002702-\\U000027B0\"\n",
        "                       u\"\\U000024C2-\\U0001F251\"\n",
        "                       u\"\\U0001f926-\\U0001f937\"\n",
        "                       u\"\\u200d\"\n",
        "                       u\"\\u2640-\\u2642\" \n",
        "                       \"]+\", flags=re.UNICODE)\n",
        "\n",
        "# Load NLTK stop words\n",
        "stop_words = nltk.corpus.stopwords.words('english')\n",
        "print (\"NLTK stopword list length: \",len(stop_words),'words')\n",
        "\n",
        "# Add custom drug stopwords\n",
        "stop_words.extend(drug_stopwords)\n",
        "print (\"Added custom stopwords\")\n",
        "print (\"New stopword list length: \",len(stop_words),'words')\n",
        "\n",
        "\n",
        "\n",
        "#######################################################\n",
        "#NORMALIZER, RUNS IN PREPROCESS\n",
        "def remove_non_ascii(words):\n",
        "    \"\"\"Remove non-ASCII characters from list of tokenized words\"\"\"\n",
        "    new_words = []\n",
        "    for word in words:\n",
        "        new_word = unicodedata.normalize('NFKD', word).encode('ascii', 'ignore').decode('utf-8', 'ignore')\n",
        "        new_words.append(new_word)\n",
        "    return new_words\n",
        "\n",
        "def remove_punctuation(words):\n",
        "    \"\"\"Remove punctuation from list of tokenized words\"\"\"\n",
        "    new_words = []\n",
        "    for word in words:\n",
        "        new_word = re.sub(r'[^\\w\\s]', '', word)\n",
        "        if new_word != '':\n",
        "            new_words.append(new_word)\n",
        "    return new_words\n",
        "\n",
        "def replace_numbers(words):\n",
        "    \"\"\"Replace all interger occurrences in list of tokenized words with textual representation\"\"\"\n",
        "    p = inflect.engine()\n",
        "    new_words = []\n",
        "    for word in words:\n",
        "        if word.isdigit():\n",
        "            new_word = p.number_to_words(word)\n",
        "            new_words.append(new_word)\n",
        "        else:\n",
        "            new_words.append(word)\n",
        "    return new_words\n",
        "\n",
        "def remove_stopwords(words):\n",
        "    \"\"\"Remove stop words from list of tokenized words\"\"\"\n",
        "    new_words = []\n",
        "    for word in words:\n",
        "        if word not in stop_words:\n",
        "            new_words.append(word)\n",
        "    return new_words\n",
        "\n",
        "def normalize(words):\n",
        "    words = remove_non_ascii(words)\n",
        "    words = remove_punctuation(words)\n",
        "    words = replace_numbers(words)\n",
        "    words = remove_stopwords(words)\n",
        "    return words\n",
        "\n",
        "\n",
        "# Define Text-PreProcessing function\n",
        "#################################################################\n",
        "def preprocess_text(text, remove_stopwords = True, perform_stemming = True):\n",
        "    #first clean text then go to lowercase and split.\n",
        "    text = text.replace(r\"http\\S+\", \"\")\n",
        "    text = text.replace(r\"http\", \"\")\n",
        "    text = text.replace(r\"(\\d)\", \"\")\n",
        "    text = text.replace(r\"@\\S+\", \"\")\n",
        "    text = text.replace(r\"@\", \"at\")\n",
        "    text = remove_special_char.sub('', text)\n",
        "    text = replace_numerics.sub('n', text)\n",
        "    text = emoji_pattern.sub('', text)\n",
        "    text = text.replace( r\"(\\\\r)|(\\\\n)|(\\\\t)|(\\\\f)|(\\.)|(\\;)|(\\:)|(\\!)|(\\')|(\\?)|(\\,)|(\\\")|(\\()|(\\))|(\\[)|(\\])|(&#039;)|(\\d\\s)|(\\d)|(\\/)\",\"\")\n",
        "    text = text.replace( r\"(\\-)|(\\\\)|(\\s{2,})\",\" \")\n",
        "    text = text.replace(r\"[^A-Za-z0-9(),!?@\\'\\`\\\"\\_\\n]\", \" \")\n",
        "    text = text.replace(r\"(&#n;)\", \"\")\n",
        "    \n",
        "    # per/wordprocessing\n",
        "    textlist = text.lower().split()\n",
        "    textlist = normalize(textlist)\n",
        "    text = ' '.join(textlist) \n",
        "    #stopword removal (nltk + custom drug stopwords)\n",
        "#    if(remove_stopwords):\n",
        "#        textlist = [word for word in textlist if word not in stop_words]\n",
        "  \n",
        "    # stemming  \n",
        "    if(perform_stemming):\n",
        "        text = text.split()\n",
        "        stemmer = SnowballStemmer('english')\n",
        "        stemmed_words = [stemmer.stem(word) for word in text]\n",
        "        text = ' '.join(stemmed_words)\n",
        "        \n",
        "    return text    \n",
        "\n"
      ],
      "execution_count": 0,
      "outputs": [
        {
          "output_type": "stream",
          "text": [
            "Readying the preprocessing functions\n",
            "NLTK stopword list length:  179 words\n",
            "Added custom stopwords\n",
            "New stopword list length:  3057 words\n"
          ],
          "name": "stdout"
        }
      ]
    },
    {
      "metadata": {
        "id": "04MNO9vQatoh",
        "colab_type": "text"
      },
      "cell_type": "markdown",
      "source": [
        "## Clean up the text and stem"
      ]
    },
    {
      "metadata": {
        "colab_type": "code",
        "id": "Zvcben6CUUbM",
        "outputId": "173637ae-ffbe-418e-f22a-cc0d9f176afa",
        "colab": {
          "base_uri": "https://localhost:8080/",
          "height": 190
        }
      },
      "cell_type": "code",
      "source": [
        "# Clean text\n",
        "raw_train_comments = train_df['review'].fillna('NA').values\n",
        "raw_test_comments = test_df['review'].fillna('NA').values\n",
        "\n",
        "# Define y for Training/Validation \n",
        "y = pd.get_dummies(train_df['classes_to_predict']).values\n",
        "\n",
        "# Define y for Tests\n",
        "y_test_predicted = pd.get_dummies(test_df['classes_to_predict']).values\n",
        "\n",
        "\n",
        "print ('Raw comments: \\n',raw_train_comments[1:5])\n",
        "\n",
        "# Process reviews for Training (X)\n",
        "processed_train_comments = []\n",
        "for comment in tqdm(raw_train_comments):\n",
        "    processed_train_comments.append(preprocess_text(comment))\n",
        "\n",
        "# Process reviews for Testing (X)\n",
        "processed_test_comments = []    \n",
        "for comment in tqdm(raw_test_comments):\n",
        "    processed_test_comments.append(preprocess_text(comment))\n",
        "\n",
        "\n",
        "    \n",
        "print ('Processed comments: \\n',processed_train_comments[1:5])"
      ],
      "execution_count": 0,
      "outputs": [
        {
          "output_type": "stream",
          "text": [
            "Raw comments: \n",
            " ['\"My son is halfway through his fourth week of Intuniv. We became concerned when he began this last week, when he started taking the highest dose he will be on. For two days, he could hardly get out of bed, was very cranky, and slept for nearly 8 hours on a drive home from school vacation (very unusual for him.) I called his doctor on Monday morning and she said to stick it out a few days. See how he did at school, and with getting up in the morning. The last two days have been problem free. He is MUCH more agreeable than ever. He is less emotional (a good thing), less cranky. He is remembering all the things he should. Overall his behavior is better. \\r\\nWe have tried many different medications and so far this is the most effective.\"'\n",
            " '\"I used to take another oral contraceptive, which had 21 pill cycle, and was very happy- very light periods, max 5 days, no other side effects. But it contained hormone gestodene, which is not available in US, so I switched to Lybrel, because the ingredients are similar. When my other pills ended, I started Lybrel immediately, on my first day of period, as the instructions said. And the period lasted for two weeks. When taking the second pack- same two weeks. And now, with third pack things got even worse- my third period lasted for two weeks and now it&#039;s the end of the third week- I still have daily brown discharge.\\r\\nThe positive side is that I didn&#039;t have any other side effects. The idea of being period free was so tempting... Alas.\"'\n",
            " '\"This is my first time using any form of birth control. I&#039;m glad I went with the patch, I have been on it for 8 months. At first It decreased my libido but that subsided. The only downside is that it made my periods longer (5-6 days to be exact) I used to only have periods for 3-4 days max also made my cramps intense for the first two days of my period, I never had cramps before using birth control. Other than that in happy with the patch\"'\n",
            " '\"Suboxone has completely turned my life around.  I feel healthier, I&#039;m excelling at my job and I always have money in my pocket and my savings account.  I had none of those before Suboxone and spent years abusing oxycontin.  My paycheck was already spent by the time I got it and I started resorting to scheming and stealing to fund my addiction.  All that is history.  If you&#039;re ready to stop, there&#039;s a good chance that suboxone will put you on the path of great life again.  I have found the side-effects to be minimal compared to oxycontin.  I&#039;m actually sleeping better.   Slight constipation is about it for me.  It truly is amazing. The cost pales in comparison to what I spent on oxycontin.\"']\n"
          ],
          "name": "stdout"
        },
        {
          "output_type": "stream",
          "text": [
            "100%|█████████████████████████████████████████████████████████████████████████| 161297/161297 [06:14<00:00, 431.16it/s]\n",
            "100%|███████████████████████████████████████████████████████████████████████████| 53766/53766 [02:04<00:00, 432.09it/s]\n"
          ],
          "name": "stderr"
        },
        {
          "output_type": "stream",
          "text": [
            "Processed comments: \n",
            " ['son halfway fourth week becam concern began last week start take highest dose fotwo day could hard get bed cranki slept fonear n hour drive home school vacat unusu fohim call doctoon monday morn said stick day see school get morn last two day problem free much agreeabl eve less emot good thing less cranki rememb thing overal behavioi bett tri mani differ medic fathi effect', 'use take anotheor n pill cycl happi light period max n day othesid effect contain hormon gestoden avail us switch ingredi simila othepil end start immedi first day period instruct said period last fotwo week take second pack two week third pack thing got even wors third period last fotwo week itn end third week still daili brown discharg posit side didnnt othesid effect idea period free tempt ala', 'first time use form birth control inm glad went patch fon month first decreas libido subsid downsid made period longenn day exact use period fonn day max also made cramp intens foth first two day period nevehad cramp use birth control othethan happi patch', 'complet turn life around feel healthi inm excel job alway money pocket save account none spent year abus paycheck alreadi spent time got start resort scheme steal fund addict histori younr readi stop theren good chanc put path great life found sideeffect minim compar inm actual sleep bett slight constip fome truli amaz cost pale comparison spent']\n"
          ],
          "name": "stdout"
        }
      ]
    },
    {
      "metadata": {
        "colab_type": "code",
        "id": "cIrgZsop1wVQ",
        "outputId": "0dd61f77-90a1-4e4d-f848-38f56265f8fe",
        "colab": {
          "base_uri": "https://localhost:8080/",
          "height": 136
        }
      },
      "cell_type": "code",
      "source": [
        "processed_test_comments[0:5]"
      ],
      "execution_count": 0,
      "outputs": [
        {
          "output_type": "execute_result",
          "data": {
            "text/plain": [
              "['inv tri antidepress oveth year none help depress insomnia amp anxieti doctosuggest chang onto nmg medicin save life thank side effect especi common weight gain inv actual lost alot weight still suicid thought save',\n",
              " 'son crohnn diseas done well complaint show side effect taken mani nine tablet peday one time inv happi result reduc bout diarrhea drastic',\n",
              " 'quick reduct symptom',\n",
              " 'combin drug use foalcohol smoke opioid cessat peopl lose weight also help control oveeat doubt obes caus sugacarb addict power drug take fofiv day good news seem go work immedi feel hungri want food realli donnt care eat itn fill stomach sinc day donnt know inv lost weight donnt scale cloth feel littl loos mayb pound otwo inm hope aftea month medic develop healthiehabit continu without aid',\n",
              " 'birth control foon cycl afteread review type similabirth control bit apprehens start im give birth control n n long enough foa n fai love birth control side effect minim like im even birth control experienc mild headach nausea othethan ive feel great got period cue third day inact pill idea come zero pms period light bare cramp unprotect sex first month obvious didnnt get pregnant inm pleas high recommend']"
            ]
          },
          "metadata": {
            "tags": []
          },
          "execution_count": 10
        }
      ]
    },
    {
      "metadata": {
        "id": "IHOtrl9KZqaK",
        "colab_type": "code",
        "colab": {}
      },
      "cell_type": "code",
      "source": [
        "np.savetxt(\"y_train2.csv\", y, delimiter=\",\", fmt='%s')\n",
        "np.savetxt(\"y_test2.csv\", y_test_predicted, delimiter=\",\", fmt='%s')\n",
        "np.savetxt(\"processed_train_comments2.csv\", processed_train_comments, delimiter=\",\", fmt='%s')\n",
        "np.savetxt(\"processed_test_comments2.csv\", processed_test_comments, delimiter=\",\", fmt='%s')"
      ],
      "execution_count": 0,
      "outputs": []
    },
    {
      "metadata": {
        "colab_type": "code",
        "id": "oh9bNGdlhf2b",
        "colab": {}
      },
      "cell_type": "code",
      "source": [
        "# GOOGLE COLAB ONLY\n",
        "# Refresh auth if needed\n",
        "# auth.authenticate_user()\n",
        "# gauth = GoogleAuth()\n",
        "# gauth.credentials = GoogleCredentials.get_application_default()\n",
        "# drive = GoogleDrive(gauth)\n",
        "\n",
        "# Save Model & Run Data \n",
        "\n",
        "# uploaded = drive.CreateFile({'title': \"{}processed_train_comments2.csv\".format(title)})\n",
        "# uploaded.SetContentFile(\"processed_train_comments2.csv\")\n",
        "# uploaded.Upload()\n",
        "# print('Uploaded file processed_train_comments2.csv with ID {}'.format(uploaded.get('id')))\n",
        "\n",
        "# uploaded = drive.CreateFile({'title': '{}processed_test_comments2.csv'.format(title)})\n",
        "# uploaded.SetContentFile('processed_test_comments2.csv')\n",
        "# uploaded.Upload()\n",
        "# print('Uploaded file processed_test_comments2.csv with ID {}'.format(uploaded.get('id')))"
      ],
      "execution_count": 0,
      "outputs": []
    },
    {
      "metadata": {
        "id": "-CciX4a4ZqaT",
        "colab_type": "code",
        "colab": {},
        "outputId": "1926bde1-a379-446e-c189-e52b3621930a"
      },
      "cell_type": "code",
      "source": [
        "# Print the text so you know what it should look like after loading.\n",
        "print (processed_train_comments[0:2])\n",
        "print (processed_test_comments[0:2])\n",
        "print (y[0:5])\n",
        "print (y_test_predicted[0:5])"
      ],
      "execution_count": 0,
      "outputs": [
        {
          "output_type": "stream",
          "text": [
            "['side effect take combin n mg fish oil', 'son halfway fourth week becam concern began last week start take highest dose fotwo day could hard get bed cranki slept fonear n hour drive home school vacat unusu fohim call doctoon monday morn said stick day see school get morn last two day problem free much agreeabl eve less emot good thing less cranki rememb thing overal behavioi bett tri mani differ medic fathi effect']\n",
            "['inv tri antidepress oveth year none help depress insomnia amp anxieti doctosuggest chang onto nmg medicin save life thank side effect especi common weight gain inv actual lost alot weight still suicid thought save', 'son crohnn diseas done well complaint show side effect taken mani nine tablet peday one time inv happi result reduc bout diarrhea drastic']\n",
            "[[0 0 1]\n",
            " [0 0 1]\n",
            " [0 1 0]\n",
            " [0 0 1]\n",
            " [0 0 1]]\n",
            "[[0 0 1]\n",
            " [0 0 1]\n",
            " [0 0 1]\n",
            " [0 0 1]\n",
            " [0 0 1]]\n"
          ],
          "name": "stdout"
        }
      ]
    },
    {
      "metadata": {
        "id": "goA8hFLhZqaa",
        "colab_type": "text"
      },
      "cell_type": "markdown",
      "source": [
        "### Load pre-cleaned data"
      ]
    },
    {
      "metadata": {
        "colab_type": "code",
        "id": "kFE9YNjm4VbP",
        "outputId": "95b11666-a0cb-4030-bc83-0f66edb98a8e",
        "colab": {
          "base_uri": "https://localhost:8080/",
          "height": 34
        }
      },
      "cell_type": "code",
      "source": [
        "#reload processed train comments \n",
        "processed_train_comments = [line.strip() for line in open(\"processed_train_comments2.csv\", 'r')]\n",
        "processed_test_comments = [line.strip() for line in open(\"processed_test_comments2.csv\", 'r')]\n",
        "#y = [line.strip() for line in open(\"y_train2.csv\", 'r')]\n",
        "#y = np.array(list(csv.reader(open(\"y_train2.csv\", \"r\"), delimiter=\",\"))).astype(\"float\")\n",
        "y = np.loadtxt(open(\"y_train2.csv\", \"r\"), delimiter=\",\").astype(\"int\")\n",
        "y_test_predicted = np.loadtxt(open(\"y_test2.csv\", \"rb\"), delimiter=\",\").astype(\"int\")\n",
        "\n",
        "print (len(processed_train_comments))\n",
        "print (len(y))\n",
        "print (len(processed_test_comments))\n",
        "print (len(y_test_predicted))\n",
        "\n",
        "#len(processed_train_comments)"
      ],
      "execution_count": 0,
      "outputs": [
        {
          "output_type": "stream",
          "text": [
            "161297\n",
            "161297\n",
            "53766\n",
            "53766\n"
          ],
          "name": "stdout"
        }
      ]
    },
    {
      "metadata": {
        "id": "CD2fQgmIZqah",
        "colab_type": "code",
        "colab": {},
        "outputId": "71e0296c-e36e-480c-c41a-f32771dc63a4"
      },
      "cell_type": "code",
      "source": [
        "# Heres what loaded. \n",
        "print (processed_train_comments[0:2])\n",
        "print (processed_test_comments[0:2])\n",
        "print (y[0:5])\n",
        "print (y_test_predicted[0:5])"
      ],
      "execution_count": 0,
      "outputs": [
        {
          "output_type": "stream",
          "text": [
            "['side effect take combin n mg fish oil', 'son halfway fourth week becam concern began last week start take highest dose fotwo day could hard get bed cranki slept fonear n hour drive home school vacat unusu fohim call doctoon monday morn said stick day see school get morn last two day problem free much agreeabl eve less emot good thing less cranki rememb thing overal behavioi bett tri mani differ medic fathi effect']\n",
            "['inv tri antidepress oveth year none help depress insomnia amp anxieti doctosuggest chang onto nmg medicin save life thank side effect especi common weight gain inv actual lost alot weight still suicid thought save', 'son crohnn diseas done well complaint show side effect taken mani nine tablet peday one time inv happi result reduc bout diarrhea drastic']\n",
            "[[0 0 1]\n",
            " [0 0 1]\n",
            " [0 1 0]\n",
            " [0 0 1]\n",
            " [0 0 1]]\n",
            "[[0 0 1]\n",
            " [0 0 1]\n",
            " [0 0 1]\n",
            " [0 0 1]\n",
            " [0 0 1]]\n"
          ],
          "name": "stdout"
        }
      ]
    },
    {
      "metadata": {
        "colab_type": "code",
        "id": "a7u-GgWB3PQ2",
        "outputId": "2ebfd786-495c-4477-ba3d-8b55d306aefc",
        "colab": {
          "base_uri": "https://localhost:8080/",
          "height": 204
        }
      },
      "cell_type": "code",
      "source": [
        "# Make sure the loaded data matches the dimensions of the originally saved data.\n",
        "print (len(processed_train_comments))\n",
        "print (len(processed_test_comments))\n",
        "print (len(y))\n",
        "print (len(y_test_predicted))\n",
        "\n",
        "train_df_iq = pd.DataFrame(y)\n",
        "train_df_iq[3] = processed_train_comments\n",
        "len(train_df_iq)"
      ],
      "execution_count": 0,
      "outputs": [
        {
          "output_type": "stream",
          "text": [
            "161297\n",
            "53766\n",
            "161297\n",
            "53766\n"
          ],
          "name": "stdout"
        },
        {
          "output_type": "execute_result",
          "data": {
            "text/plain": [
              "161297"
            ]
          },
          "metadata": {
            "tags": []
          },
          "execution_count": 6
        }
      ]
    },
    {
      "metadata": {
        "id": "jTdgRVz1abCl",
        "colab_type": "text"
      },
      "cell_type": "markdown",
      "source": [
        "## Remove extremely long review outliers"
      ]
    },
    {
      "metadata": {
        "colab_type": "code",
        "id": "77ZTsY63xPug",
        "outputId": "dbb313f2-60d3-47ee-f7d6-d2e20b695e71",
        "colab": {
          "base_uri": "https://localhost:8080/",
          "height": 654
        }
      },
      "cell_type": "code",
      "source": [
        "train_df_iq = pd.DataFrame(y)\n",
        "train_df_iq[3] = processed_train_comments\n",
        "\n",
        "print(train_df_iq[3].str.split().str.len().mean())\n",
        "print(train_df_iq[3].str.split().str.len().max())\n",
        "train_df_iq[\"strlen\"] = train_df_iq[3].str.split().str.len()\n",
        "\n",
        "import matplotlib.pyplot as plt\n",
        "\n",
        "fig = plt.figure(figsize=(10, 10)) \n",
        "plt.xlabel('Sentence length')\n",
        "plt.ylabel('Number of sentences')\n",
        "plt.title('Length of Sentences')\n",
        "plt.hist(train_df_iq[\"strlen\"], bins=86)\n",
        "plt.show()"
      ],
      "execution_count": 0,
      "outputs": [
        {
          "output_type": "stream",
          "text": [
            "42.50323316614692\n",
            "946\n"
          ],
          "name": "stdout"
        },
        {
          "output_type": "display_data",
          "data": {
            "image/png": "[encoded data removed]",
            "text/plain": [
              "<Figure size 720x720 with 1 Axes>"
            ]
          },
          "metadata": {
            "tags": [],
            "needs_background": "light"
          }
        }
      ]
    },
    {
      "metadata": {
        "colab_type": "code",
        "id": "E2obdEvCmd_u",
        "outputId": "6a40a642-b180-4443-846f-8f55a00443cd",
        "colab": {
          "base_uri": "https://localhost:8080/",
          "height": 297
        }
      },
      "cell_type": "code",
      "source": [
        "train_df_iq.describe()"
      ],
      "execution_count": 0,
      "outputs": [
        {
          "output_type": "execute_result",
          "data": {
            "text/html": [
              "<div>\n",
              "<style scoped>\n",
              "    .dataframe tbody tr th:only-of-type {\n",
              "        vertical-align: middle;\n",
              "    }\n",
              "\n",
              "    .dataframe tbody tr th {\n",
              "        vertical-align: top;\n",
              "    }\n",
              "\n",
              "    .dataframe thead th {\n",
              "        text-align: right;\n",
              "    }\n",
              "</style>\n",
              "<table border=\"1\" class=\"dataframe\">\n",
              "  <thead>\n",
              "    <tr style=\"text-align: right;\">\n",
              "      <th></th>\n",
              "      <th>0</th>\n",
              "      <th>1</th>\n",
              "      <th>2</th>\n",
              "      <th>strlen</th>\n",
              "    </tr>\n",
              "  </thead>\n",
              "  <tbody>\n",
              "    <tr>\n",
              "      <th>count</th>\n",
              "      <td>161297.000000</td>\n",
              "      <td>161297.000000</td>\n",
              "      <td>161297.000000</td>\n",
              "      <td>161297.000000</td>\n",
              "    </tr>\n",
              "    <tr>\n",
              "      <th>mean</th>\n",
              "      <td>0.248455</td>\n",
              "      <td>0.089004</td>\n",
              "      <td>0.662542</td>\n",
              "      <td>42.503233</td>\n",
              "    </tr>\n",
              "    <tr>\n",
              "      <th>std</th>\n",
              "      <td>0.432118</td>\n",
              "      <td>0.284750</td>\n",
              "      <td>0.472844</td>\n",
              "      <td>22.673993</td>\n",
              "    </tr>\n",
              "    <tr>\n",
              "      <th>min</th>\n",
              "      <td>0.000000</td>\n",
              "      <td>0.000000</td>\n",
              "      <td>0.000000</td>\n",
              "      <td>0.000000</td>\n",
              "    </tr>\n",
              "    <tr>\n",
              "      <th>25%</th>\n",
              "      <td>0.000000</td>\n",
              "      <td>0.000000</td>\n",
              "      <td>0.000000</td>\n",
              "      <td>24.000000</td>\n",
              "    </tr>\n",
              "    <tr>\n",
              "      <th>50%</th>\n",
              "      <td>0.000000</td>\n",
              "      <td>0.000000</td>\n",
              "      <td>1.000000</td>\n",
              "      <td>42.000000</td>\n",
              "    </tr>\n",
              "    <tr>\n",
              "      <th>75%</th>\n",
              "      <td>0.000000</td>\n",
              "      <td>0.000000</td>\n",
              "      <td>1.000000</td>\n",
              "      <td>62.000000</td>\n",
              "    </tr>\n",
              "    <tr>\n",
              "      <th>max</th>\n",
              "      <td>1.000000</td>\n",
              "      <td>1.000000</td>\n",
              "      <td>1.000000</td>\n",
              "      <td>946.000000</td>\n",
              "    </tr>\n",
              "  </tbody>\n",
              "</table>\n",
              "</div>"
            ],
            "text/plain": [
              "                   0              1              2         strlen\n",
              "count  161297.000000  161297.000000  161297.000000  161297.000000\n",
              "mean        0.248455       0.089004       0.662542      42.503233\n",
              "std         0.432118       0.284750       0.472844      22.673993\n",
              "min         0.000000       0.000000       0.000000       0.000000\n",
              "25%         0.000000       0.000000       0.000000      24.000000\n",
              "50%         0.000000       0.000000       1.000000      42.000000\n",
              "75%         0.000000       0.000000       1.000000      62.000000\n",
              "max         1.000000       1.000000       1.000000     946.000000"
            ]
          },
          "metadata": {
            "tags": []
          },
          "execution_count": 8
        }
      ]
    },
    {
      "metadata": {
        "colab_type": "code",
        "id": "ts0gFPHZyffV",
        "outputId": "95b62b3c-03d5-406b-c994-ddbc0a57a15e",
        "colab": {
          "base_uri": "https://localhost:8080/",
          "height": 153
        }
      },
      "cell_type": "code",
      "source": [
        "_a = train_df_iq.loc[train_df_iq[\"strlen\"] >= 1000].strlen.count()\n",
        "_b = train_df_iq.loc[train_df_iq[\"strlen\"] >= 750].strlen.count()\n",
        "_c = train_df_iq.loc[train_df_iq[\"strlen\"] >= 250].strlen.count()\n",
        "_d = train_df_iq.loc[train_df_iq[\"strlen\"] >= 180].strlen.count()\n",
        "_e = train_df_iq.loc[train_df_iq[\"strlen\"] >= 100].strlen.count()\n",
        "_f = train_df_iq.loc[train_df_iq[\"strlen\"] < 100].strlen.count()\n",
        "print (\" # of Reviews by Length \\n %s >1000 words \\n %s >750 words \\n %s >250 words \\n %s >180 words \\n %s >100 words \\n %s <100 words\\n\" % (_a,_b,_c,_d,_e,_f))"
      ],
      "execution_count": 0,
      "outputs": [
        {
          "output_type": "stream",
          "text": [
            " # of Reviews by Length \n",
            " 0 >1000 words \n",
            " 1 >750 words \n",
            " 30 >250 words \n",
            " 68 >180 words \n",
            " 256 >100 words \n",
            " 161041 <100 words\n",
            "\n"
          ],
          "name": "stdout"
        }
      ]
    },
    {
      "metadata": {
        "colab_type": "code",
        "id": "_bZn2tqkxVKs",
        "outputId": "44fc7b5f-3d1b-4837-bb2a-ed9a4f9339bf",
        "colab": {
          "base_uri": "https://localhost:8080/",
          "height": 654
        }
      },
      "cell_type": "code",
      "source": [
        "# Drop long rows\n",
        "train_df_iq = train_df_iq.loc[train_df_iq[\"strlen\"] <= MAX_SEQUENCE_LENGTH]\n",
        "\n",
        "print(\"New word count mean:\", train_df_iq[3].str.split().str.len().mean())\n",
        "print(\"New word count max:\",train_df_iq[3].str.split().str.len().max())\n",
        "train_df_iq.describe()\n",
        "\n",
        "import matplotlib.pyplot as plt\n",
        "\n",
        "fig = plt.figure(figsize=(10, 10)) \n",
        "plt.xlabel('Sentence length')\n",
        "plt.ylabel('Number of sentences')\n",
        "plt.title('Length of Sentences (cleaned)')\n",
        "plt.hist(train_df_iq[\"strlen\"], bins=MAX_SEQUENCE_LENGTH)\n",
        "plt.show()"
      ],
      "execution_count": 0,
      "outputs": [
        {
          "output_type": "stream",
          "text": [
            "New word count mean: 42.30497929175955\n",
            "New word count max: 100\n"
          ],
          "name": "stdout"
        },
        {
          "output_type": "display_data",
          "data": {
            "image/png": "[encoded data removed]",
            "text/plain": [
              "<Figure size 720x720 with 1 Axes>"
            ]
          },
          "metadata": {
            "tags": [],
            "needs_background": "light"
          }
        }
      ]
    },
    {
      "metadata": {
        "_uuid": "1238d3f10b823503ce8e16eece77b990c09934fc",
        "colab_type": "text",
        "id": "i5_6o_tbauf-"
      },
      "cell_type": "markdown",
      "source": [
        "##  Drop unwanted columns and Inspect Data\n"
      ]
    },
    {
      "metadata": {
        "_uuid": "952a9e8d75123447297efbc14a3a0e6eec021098",
        "colab_type": "code",
        "id": "EipoRqBLauf_",
        "colab": {},
        "outputId": "519dda6b-7f50-4cad-a105-df7fc10f52a4"
      },
      "cell_type": "code",
      "source": [
        "post_processed_train_comments = train_df_iq[3].tolist()\n",
        "post_processed_y = train_df_iq[[0, 1, 2]].values\n",
        "\n",
        "print('y: \\n',y[0:5])\n",
        "print('post_y: \\n',post_processed_y[0:5])\n",
        "\n",
        "print('pre_train comments: \\n',processed_train_comments[0:3])\n",
        "print('post_train comments: \\n',post_processed_train_comments[0:3])\n",
        "\n",
        "print('y_test:\\n',y_test_predicted[0:5])\n",
        "print('x_test:\\n',processed_test_comments[0:3])"
      ],
      "execution_count": 0,
      "outputs": [
        {
          "output_type": "stream",
          "text": [
            "y: \n",
            " [[0 0 1]\n",
            " [0 0 1]\n",
            " [0 1 0]\n",
            " [0 0 1]\n",
            " [0 0 1]]\n",
            "post_y: \n",
            " [[0 0 1]\n",
            " [0 0 1]\n",
            " [0 1 0]\n",
            " [0 0 1]\n",
            " [0 0 1]]\n",
            "pre_train comments: \n",
            " ['side effect take combin n mg fish oil', 'son halfway fourth week becam concern began last week start take highest dose fotwo day could hard get bed cranki slept fonear n hour drive home school vacat unusu fohim call doctoon monday morn said stick day see school get morn last two day problem free much agreeabl eve less emot good thing less cranki rememb thing overal behavioi bett tri mani differ medic fathi effect', 'use take anotheor n pill cycl happi light period max n day othesid effect contain hormon gestoden avail us switch ingredi simila othepil end start immedi first day period instruct said period last fotwo week take second pack two week third pack thing got even wors third period last fotwo week itn end third week still daili brown discharg posit side didnnt othesid effect idea period free tempt ala']\n",
            "post_train comments: \n",
            " ['side effect take combin n mg fish oil', 'son halfway fourth week becam concern began last week start take highest dose fotwo day could hard get bed cranki slept fonear n hour drive home school vacat unusu fohim call doctoon monday morn said stick day see school get morn last two day problem free much agreeabl eve less emot good thing less cranki rememb thing overal behavioi bett tri mani differ medic fathi effect', 'use take anotheor n pill cycl happi light period max n day othesid effect contain hormon gestoden avail us switch ingredi simila othepil end start immedi first day period instruct said period last fotwo week take second pack two week third pack thing got even wors third period last fotwo week itn end third week still daili brown discharg posit side didnnt othesid effect idea period free tempt ala']\n",
            "y_test:\n",
            " [[0 0 1]\n",
            " [0 0 1]\n",
            " [0 0 1]\n",
            " [0 0 1]\n",
            " [0 0 1]]\n",
            "x_test:\n",
            " ['inv tri antidepress oveth year none help depress insomnia amp anxieti doctosuggest chang onto nmg medicin save life thank side effect especi common weight gain inv actual lost alot weight still suicid thought save', 'son crohnn diseas done well complaint show side effect taken mani nine tablet peday one time inv happi result reduc bout diarrhea drastic', 'quick reduct symptom']\n"
          ],
          "name": "stdout"
        }
      ]
    },
    {
      "metadata": {
        "_uuid": "4a28033abc33dbf9d6591bb72f731411c176ac58",
        "colab_type": "text",
        "id": "JJfxb_NZaugL"
      },
      "cell_type": "markdown",
      "source": [
        "## Create vector with features and vector with encoded label\n"
      ]
    },
    {
      "metadata": {
        "colab_type": "code",
        "id": "qdMwbj3BrlXg",
        "outputId": "f8f68225-6fa6-49b4-b19d-b999a27de0b5",
        "colab": {
          "base_uri": "https://localhost:8080/",
          "height": 105
        }
      },
      "cell_type": "code",
      "source": [
        "# MAX_NB_WORDS is set at top\n",
        "# MAX_SEQUENCE_LENGTH is set at top. \n",
        "\n",
        "# Tokenize the data\n",
        "tokenizer = Tokenizer(num_words = MAX_NB_WORDS, \n",
        "                      filters='!\"#$%&()*+,-./:;<=>?@[\\]^_`{|}~',\n",
        "                      lower=True, split=' ', char_level=False, \n",
        "                      oov_token=None, document_count=0)\n",
        "\n",
        "tokenizer.fit_on_texts(post_processed_train_comments + processed_test_comments)\n",
        "\n",
        "# Convert to sequences\n",
        "train_sequences = tokenizer.texts_to_sequences(post_processed_train_comments)\n",
        "test_sequences = tokenizer.texts_to_sequences(processed_test_comments)\n",
        "word_index = tokenizer.word_index\n",
        "print('found %s tokens in text.' %(len(word_index)))\n",
        "\n",
        "# Ensure all sequences have the same length. \n",
        "train_data = pad_sequences(train_sequences, maxlen = MAX_SEQUENCE_LENGTH)\n",
        "final_test_data = pad_sequences(test_sequences, maxlen = MAX_SEQUENCE_LENGTH)\n",
        "\n",
        "# Print shapes of data. \n",
        "\n",
        "print(train_data.shape, '<-- shape of train_data ready for val/train split.')\n",
        "print(final_test_data.shape, '<-- shape of final_test_data ready for fedding to network.')\n",
        "print(len(word_index), '<-- Length of Word Index')"
      ],
      "execution_count": 0,
      "outputs": [
        {
          "output_type": "stream",
          "text": [
            "found 111463 tokens in text.\n",
            "(161047, 100) <-- shape of train_data ready for val/train split.\n",
            "(53766, 100) <-- shape of final_test_data ready for fedding to network.\n",
            "111463 <-- Length of Word Index\n"
          ],
          "name": "stdout"
        }
      ]
    },
    {
      "metadata": {
        "_uuid": "905aef8abbb8289da865a5ade3799c3b2110abaa",
        "colab_type": "text",
        "id": "h7DNcrf4augY"
      },
      "cell_type": "markdown",
      "source": [
        "## Train/Validation split"
      ]
    },
    {
      "metadata": {
        "_uuid": "29cb96ef384cf5def7da18d44f01fcf8a03081e7",
        "colab_type": "code",
        "id": "mfl-N8zcauga",
        "outputId": "ba920a96-3078-40ea-db5c-d5e48d8200aa",
        "colab": {
          "base_uri": "https://localhost:8080/",
          "height": 85
        }
      },
      "cell_type": "code",
      "source": [
        "# Split Training & Validation Data\n",
        "print('creating train and validation data by dividing train_data in 80:20 ratio')\n",
        "######################################################\n",
        "\n",
        "X_train, X_val, Y_train, Y_val = train_test_split(train_data, post_processed_y,\n",
        "                                                  test_size = 0.2,  stratify= post_processed_y, \n",
        "                                                  random_state = 2018)\n",
        "X_test = final_test_data\n",
        "Y_test = y_test_predicted\n",
        "\n",
        "######################################################\n",
        "print('train data shape:', X_train.shape)\n",
        "print('validation data shape:', X_val.shape)\n",
        "print('Data is ready for training!!')"
      ],
      "execution_count": 0,
      "outputs": [
        {
          "output_type": "stream",
          "text": [
            "creating train and validation data by dividing train_data in 80:20 ratio\n",
            "train data shape: (128837, 100)\n",
            "validation data shape: (32210, 100)\n",
            "Data is ready for training!!\n"
          ],
          "name": "stdout"
        }
      ]
    },
    {
      "metadata": {
        "_uuid": "497f010c5199dd3e01f85ab3f371d2d4e8eb10c1",
        "colab_type": "text",
        "id": "9dOYYKa2augP"
      },
      "cell_type": "markdown",
      "source": [
        "## Set up model\n"
      ]
    },
    {
      "metadata": {
        "_uuid": "98831dd70a33774f2b4e443c570ee6da53ce90f7",
        "colab_type": "code",
        "id": "z7K0gJklaugR",
        "colab": {}
      },
      "cell_type": "code",
      "source": [
        "nb_words  = min(MAX_NB_WORDS, len(word_index))\n",
        "lstm_out = MAX_SEQUENCE_LENGTH\n",
        "\n",
        "model = Sequential()\n",
        "model.add(Embedding(nb_words,EMBEDDING_DIM,input_length=MAX_SEQUENCE_LENGTH))\n",
        "model.add(LSTM(50))\n",
        "#model.add(Attention(MAX_SEQUENCE_LENGTH))\n",
        "model.add(Dense(3, activation = 'softmax'))\n",
        "model.compile(loss='binary_crossentropy',optimizer='adam',metrics=['accuracy'])"
      ],
      "execution_count": 0,
      "outputs": []
    },
    {
      "metadata": {
        "_uuid": "9b3e9a26968fd6980f1aa598ea9d7ab8dd95960c",
        "colab_type": "code",
        "id": "i0ajSNKeaugV",
        "outputId": "5a100358-0415-4715-813d-1c51a3f91ac3",
        "colab": {
          "base_uri": "https://localhost:8080/",
          "height": 238
        }
      },
      "cell_type": "code",
      "source": [
        "model.summary()"
      ],
      "execution_count": 0,
      "outputs": [
        {
          "output_type": "stream",
          "text": [
            "_________________________________________________________________\n",
            "Layer (type)                 Output Shape              Param #   \n",
            "=================================================================\n",
            "embedding_1 (Embedding)      (None, 100, 160)          480000    \n",
            "_________________________________________________________________\n",
            "lstm_1 (LSTM)                (None, 50)                42200     \n",
            "_________________________________________________________________\n",
            "dense_1 (Dense)              (None, 3)                 153       \n",
            "=================================================================\n",
            "Total params: 522,353\n",
            "Trainable params: 522,353\n",
            "Non-trainable params: 0\n",
            "_________________________________________________________________\n"
          ],
          "name": "stdout"
        }
      ]
    },
    {
      "metadata": {
        "_uuid": "16f2fd61c3f1957b6dcfec6d6187871c70293710",
        "colab_type": "text",
        "id": "eHH6Z9-oaugc"
      },
      "cell_type": "markdown",
      "source": [
        "## Fit on dataset\n"
      ]
    },
    {
      "metadata": {
        "colab_type": "code",
        "id": "aDYIKigdJETj",
        "outputId": "5f6d3cf2-53ff-429f-a118-aa9dbfa14502",
        "colab": {
          "base_uri": "https://localhost:8080/",
          "height": 34
        }
      },
      "cell_type": "code",
      "source": [
        "training_cycle = 1\n",
        "batch = 32 \n",
        "stamp = '{}trainging_cycle{}batchsize_{}'.format(title,training_cycle,batch)\n",
        "print(stamp)"
      ],
      "execution_count": 0,
      "outputs": [
        {
          "output_type": "stream",
          "text": [
            "Drug_Data_LSTM_w_stopwords_1.0_trainging_cycle1batchsize_32\n"
          ],
          "name": "stdout"
        }
      ]
    },
    {
      "metadata": {
        "_uuid": "11c44dfae8f01df300e2d10c0ef2db77438f6c72",
        "colab_type": "code",
        "id": "hpf6jI00augd",
        "outputId": "ce8f7833-8174-4410-e154-c0de207e0f66",
        "colab": {
          "base_uri": "https://localhost:8080/",
          "height": 796
        }
      },
      "cell_type": "code",
      "source": [
        "training_cycle = 1\n",
        "batch = 32 \n",
        "\n",
        "stamp = '{}trainging_cycle{}batchsize_{}'.format(title,training_cycle,batch)\n",
        "print(stamp)\n",
        "best_model_path = title + stamp + 'best.h5'\n",
        "\n",
        "early_stopping = EarlyStopping(patience = 4)\n",
        "model_checkpoint = ModelCheckpoint(best_model_path, save_best_only = True)\n",
        "\n",
        "\n",
        "# Run LSTM Model\n",
        "epoch = 40\n",
        "LSTM_model = model.fit(X_train, Y_train, batch_size=batch, epochs=epoch,\n",
        "                       validation_data=(X_val, Y_val), shuffle = True, \n",
        "                       callbacks = [early_stopping, model_checkpoint], verbose = 0)\n",
        "best_score = min(LSTM_model.history['val_loss'])\n",
        "\n",
        "\n",
        "# Save Training History\n",
        "df_fit = pd.DataFrame(columns=['loss','acc','val_loss','val_acc'])\n",
        "df_fit['loss'] = LSTM_model.history['loss']\n",
        "df_fit['val_loss'] = LSTM_model.history['val_loss']\n",
        "df_fit['acc'] = LSTM_model.history['acc']\n",
        "df_fit['val_acc'] = LSTM_model.history['val_acc']\n",
        "df_fit\n",
        "\n",
        "# Save Model & Run Data \n",
        "save_name = ('DrugDataLSTM_batch_{}_epoch_{}_cycle_{}'.format(batch,epoch,training_cycle))\n",
        "# Save the end model with the best score. \n",
        "model.save('{}_end.h5'.format(save_name))\n",
        "print('Uploaded file {}.h5'.format(save_name))\n",
        "# Save df of run performance\n",
        "df_fit.to_csv('{}.csv'.format(save_name))\n",
        "print('Uploaded file {}.csv'.format(save_name))\n",
        "\n",
        "# GOOGLE COLAB SAVING\n",
        "#uploaded = drive.CreateFile({'title': '{}.h5'.format(save_name)})\n",
        "#model.save('{}.h5'.format(save_name))\n",
        "#uploaded.SetContentFile('{}.h5'.format(save_name))\n",
        "#uploaded.Upload()\n",
        "#print('Uploaded file {}.h5'.format(save_name),'with ID {}'.format(uploaded.get('id')))\n",
        "\n",
        "#uploaded = drive.CreateFile({'title': '{}.csv'.format(save_name)})\n",
        "#df_fit.to_csv('{}.csv'.format(save_name))\n",
        "#uploaded.SetContentFile('{}.csv'.format(save_name))\n",
        "#uploaded.Upload()\n",
        "#print('Uploaded file {}.csv'.format(save_name),'with ID {}'.format(uploaded.get('id')))\n",
        "\n",
        "'''Brief Performance History from runs w/stopwords and no stemming\n",
        "# initial param batch=32, epoch=10\n",
        "#Epoch 5/5 (256 batch size)\n",
        "#102455/102455 [==============================] - 286s 3ms/step - loss: 0.2414 - acc: 0.8999 - val_loss: 0.3141 - val_acc: 0.8696\n",
        "\n",
        "#Epoch 1-5 (64 batch size)\n",
        "Train on 102455 samples, validate on 25614 samples\n",
        "102455/102455 [==============================] - 416s 4ms/step - loss: 0.2463 - acc: 0.8982 - val_loss: 0.3142 - val_acc: 0.8693\n",
        "\n",
        "#sentiment_with_lstm_1.00_8.00\n",
        "#Train on 102455 samples, validate on 25614 samples\n",
        "#Epoch 1/30\n",
        "#102455/102455 [==============================] - 1808s 18ms/step - loss: 0.1472 - acc: 0.9429 - val_loss: 0.3224 - val_acc: 0.8833''';"
      ],
      "execution_count": 0,
      "outputs": [
        {
          "output_type": "stream",
          "text": [
            "Drug_Data_LSTM_w_stopwords_1.0_trainging_cycle1batchsize_32\n",
            "Uploaded file DrugDataLSTM_batch_32_epoch_40_cycle_1.h5\n",
            "Uploaded file DrugDataLSTM_batch_32_epoch_40_cycle_1.csv\n"
          ],
          "name": "stdout"
        },
        {
          "output_type": "execute_result",
          "data": {
            "text/plain": [
              "'Brief Performance History from runs w/stopwords and no stemming\\n# initial param batch=32, epoch=10\\n#Epoch 5/5 (256 batch size)\\n#102455/102455 [==============================] - 286s 3ms/step - loss: 0.2414 - acc: 0.8999 - val_loss: 0.3141 - val_acc: 0.8696\\n\\n#Epoch 1-5 (64 batch size)\\nTrain on 102455 samples, validate on 25614 samples\\n102455/102455 [==============================] - 416s 4ms/step - loss: 0.2463 - acc: 0.8982 - val_loss: 0.3142 - val_acc: 0.8693\\n\\n#sentiment_with_lstm_1.00_8.00\\n#Train on 102455 samples, validate on 25614 samples\\n#Epoch 1/30\\n#102455/102455 [==============================] - 1808s 18ms/step - loss: 0.1472 - acc: 0.9429 - val_loss: 0.3224 - val_acc: 0.8833'"
            ]
          },
          "metadata": {
            "tags": []
          },
          "execution_count": 22
        }
      ]
    },
    {
      "metadata": {
        "colab_type": "code",
        "id": "DzWA2KxVf_FU",
        "colab": {}
      },
      "cell_type": "code",
      "source": [
        "training_cycle = 1\n",
        "batch = 16 \n",
        "epoch = 6\n",
        "# Save Training History\n",
        "df_fit = pd.DataFrame(columns=['loss','acc','val_loss','val_acc'])\n",
        "df_fit['loss'] = LSTM_model.history['loss']\n",
        "df_fit['val_loss'] = LSTM_model.history['val_loss']\n",
        "df_fit['acc'] = LSTM_model.history['acc']\n",
        "df_fit['val_acc'] = LSTM_model.history['val_acc']\n",
        "df_fit\n",
        "\n",
        "# Save Model & Run Data \n",
        "save_name = ('DrugDataLSTM_batch_{}_epoch_{}_cycle_{}'.format(batch,epoch,training_cycle))\n",
        "\n",
        "uploaded = drive.CreateFile({'title': '{}.h5'.format(save_name)})\n",
        "model.save('{}.h5'.format(save_name))\n",
        "uploaded.SetContentFile('{}.h5'.format(save_name))\n",
        "uploaded.Upload()\n",
        "print('Uploaded file {}.h5'.format(save_name),'with ID {}'.format(uploaded.get('id')))\n",
        "\n",
        "uploaded = drive.CreateFile({'title': '{}.csv'.format(save_name)})\n",
        "df_fit.to_csv('{}.csv'.format(save_name))\n",
        "uploaded.SetContentFile('{}.csv'.format(save_name))\n",
        "uploaded.Upload()\n",
        "print('Uploaded file {}.csv'.format(save_name),'with ID {}'.format(uploaded.get('id')))"
      ],
      "execution_count": 0,
      "outputs": []
    },
    {
      "metadata": {
        "colab_type": "code",
        "id": "vxx33dftgTXj",
        "colab": {}
      },
      "cell_type": "code",
      "source": [
        "print('DrugDataLSTM_batch_{}_epoch_{}_cycle_{}'.format(batch,epoch,training_cycle))"
      ],
      "execution_count": 0,
      "outputs": []
    },
    {
      "metadata": {
        "_uuid": "e345372d49390e84f413ee79674844e4f9f27f32",
        "colab_type": "code",
        "id": "gbkt9andaugq",
        "outputId": "b0b64c42-4dde-4ee0-bbcf-206344832000",
        "scrolled": true,
        "colab": {
          "base_uri": "https://localhost:8080/",
          "height": 294
        }
      },
      "cell_type": "code",
      "source": [
        "# Plot training vs validation loss over epoch. \n",
        "\n",
        "plt.plot(LSTM_model.history['loss'])\n",
        "plt.plot(LSTM_model.history['val_loss'])\n",
        "plt.title('model train vs validation loss')\n",
        "plt.ylabel('loss')\n",
        "plt.xlabel('epoch')\n",
        "plt.legend(['train', 'validation'], loc='upper right')\n",
        "plt.show()"
      ],
      "execution_count": 0,
      "outputs": [
        {
          "output_type": "display_data",
          "data": {
            "image/png": "[encoded data removed]",
            "text/plain": [
              "<Figure size 432x288 with 1 Axes>"
            ]
          },
          "metadata": {
            "tags": [],
            "needs_background": "light"
          }
        }
      ]
    },
    {
      "metadata": {
        "id": "dHrMLrrCZqcW",
        "colab_type": "code",
        "colab": {},
        "outputId": "c8d55614-6894-4f67-caf9-cfe3fe015567"
      },
      "cell_type": "code",
      "source": [
        "plt.plot(LSTM_model.history['acc'])\n",
        "plt.plot(LSTM_model.history['val_acc'])\n",
        "plt.title('model train vs validation accuracy')\n",
        "plt.ylabel('acc')\n",
        "plt.xlabel('epoch')\n",
        "plt.legend(['train', 'validation'], loc='upper right')\n",
        "plt.show()"
      ],
      "execution_count": 0,
      "outputs": [
        {
          "output_type": "display_data",
          "data": {
            "image/png": "[encoded data removed]",
            "text/plain": [
              "<Figure size 432x288 with 1 Axes>"
            ]
          },
          "metadata": {
            "tags": [],
            "needs_background": "light"
          }
        }
      ]
    },
    {
      "metadata": {
        "_uuid": "b643ff94ce86c942d89cafa78b8f87c19ba165a9",
        "colab_type": "text",
        "id": "ipcKADrXaugi"
      },
      "cell_type": "markdown",
      "source": [
        "# Adjust validation data inspect fit to data\n"
      ]
    },
    {
      "metadata": {
        "_uuid": "b1d219b873af5f3cc372c7de85cecfed3ef3efd5",
        "colab_type": "code",
        "id": "Qpvy7Dybaugi",
        "outputId": "8f4509ea-7063-4936-c51f-643e4b6cb911",
        "colab": {
          "base_uri": "https://localhost:8080/",
          "height": 34
        }
      },
      "cell_type": "code",
      "source": [
        "accr = model.evaluate(X_test,Y_test, batch_size = 256)"
      ],
      "execution_count": 0,
      "outputs": [
        {
          "output_type": "stream",
          "text": [
            "53766/53766 [==============================] - ETA: 12 - ETA: 11 - ETA: 11 - ETA: 11 - ETA: 10 - ETA: 10 - ETA: 10 - ETA: 10 - ETA: 10 - ETA: 10 - ETA: 10 - ETA: 10 - ETA: 10 - ETA: 10 - ETA: 10 - ETA: 10 - ETA: 10 - ETA: 10 - ETA: 10 - ETA: 9 - ETA:  - ETA:  - ETA:  - ETA:  - ETA:  - ETA:  - ETA:  - ETA:  - ETA:  - ETA:  - ETA:  - ETA:  - ETA:  - ETA:  - ETA:  - ETA:  - ETA:  - ETA:  - ETA:  - ETA:  - ETA:  - ETA:  - ETA:  - ETA:  - ETA:  - ETA:  - ETA:  - ETA:  - ETA:  - ETA:  - ETA:  - ETA:  - ETA:  - ETA:  - ETA:  - ETA:  - ETA:  - ETA:  - ETA:  - ETA:  - ETA:  - ETA:  - ETA:  - ETA:  - ETA:  - ETA:  - ETA:  - ETA:  - ETA:  - ETA:  - ETA:  - ETA:  - ETA:  - ETA:  - ETA:  - ETA:  - ETA:  - ETA:  - ETA:  - ETA:  - ETA:  - ETA:  - ETA:  - ETA:  - ETA:  - ETA:  - ETA:  - ETA:  - ETA:  - ETA:  - ETA:  - ETA:  - ETA:  - ETA:  - ETA:  - ETA:  - ETA:  - ETA:  - ETA:  - ETA:  - ETA:  - ETA:  - ETA:  - ETA:  - ETA:  - ETA:  - ETA:  - ETA:  - ETA:  - ETA:  - ETA:  - ETA:  - ETA:  - ETA:  - ETA:  - ETA:  - ETA:  - ETA:  - ETA:  - ETA:  - ETA:  - ETA:  - ETA:  - ETA:  - ETA:  - ETA:  - ETA:  - ETA:  - ETA:  - ETA:  - ETA:  - ETA:  - ETA:  - ETA:  - ETA:  - ETA:  - ETA:  - ETA:  - ETA:  - ETA:  - ETA:  - ETA:  - ETA:  - ETA:  - ETA:  - ETA:  - ETA:  - ETA:  - ETA:  - ETA:  - ETA:  - ETA:  - ETA:  - ETA:  - ETA:  - ETA:  - ETA:  - ETA:  - ETA:  - ETA:  - ETA:  - ETA:  - ETA:  - ETA:  - ETA:  - ETA:  - ETA:  - ETA:  - ETA:  - ETA:  - ETA:  - ETA:  - ETA:  - ETA:  - ETA:  - ETA:  - ETA:  - ETA:  - ETA:  - ETA:  - ETA:  - ETA:  - ETA:  - ETA:  - ETA:  - ETA:  - ETA:  - ETA:  - ETA:  - ETA:  - ETA:  - ETA:  - ETA:  - ETA:  - ETA:  - ETA:  - ETA:  - ETA:  - ETA:  - ETA:  - ETA:  - ETA:  - ETA:  - ETA:  - ETA:  - ETA:  - ETA:  - 11s 205us/step\n",
            "[0.3237398462858166, 0.8842081298578204]\n"
          ],
          "name": "stdout"
        }
      ]
    },
    {
      "metadata": {
        "_uuid": "34c10470ccd820c6e48406858bec3f611adfcd12",
        "colab_type": "text",
        "id": "gepPzYquaugz"
      },
      "cell_type": "markdown",
      "source": [
        "# Check against test data"
      ]
    },
    {
      "metadata": {
        "_uuid": "447c201f5b4af5081b89fd389e909dddcc24b9ab",
        "colab_type": "code",
        "id": "FDQx3iF3augn",
        "outputId": "2f1bd9ec-5186-4e15-f892-e36dab7f93a4",
        "colab": {
          "base_uri": "https://localhost:8080/",
          "height": 68
        }
      },
      "cell_type": "code",
      "source": [
        "print('Test set\\n  Loss: {:0.3f}\\n  Accuracy: {:0.3f}'.format(accr[0],accr[1]))"
      ],
      "execution_count": 0,
      "outputs": [
        {
          "output_type": "stream",
          "text": [
            "Test set\n",
            "  Loss: 0.324\n",
            "  Accuracy: 0.884\n"
          ],
          "name": "stdout"
        }
      ]
    },
    {
      "metadata": {
        "_uuid": "ef0ee9c826a60752933a037be41227282b713d66",
        "colab_type": "code",
        "id": "D4eK0FApaug1",
        "colab": {}
      },
      "cell_type": "code",
      "source": [
        "prediction = model.predict(X_test)"
      ],
      "execution_count": 0,
      "outputs": []
    },
    {
      "metadata": {
        "_uuid": "46e45f768b6824feb4bab18d98b37628978e409b",
        "colab_type": "code",
        "id": "vQ-GA2_yaug4",
        "outputId": "770995bf-8ade-429d-a089-7a0f7ee6cc71",
        "colab": {
          "base_uri": "https://localhost:8080/",
          "height": 51
        }
      },
      "cell_type": "code",
      "source": [
        "target_names = ['Positive','Neutral','Negative']\n",
        "print(confusion_matrix(Y_test.argmax(axis=1), prediction.argmax(axis=1)))"
      ],
      "execution_count": 0,
      "outputs": [
        {
          "output_type": "stream",
          "text": [
            "[[10612   811  2074]\n",
            " [ 1440  1686  1703]\n",
            " [ 2370  1187 31883]]\n"
          ],
          "name": "stdout"
        }
      ]
    },
    {
      "metadata": {
        "colab_type": "code",
        "id": "ShVuHyaurvlk",
        "colab": {}
      },
      "cell_type": "code",
      "source": [
        "import numpy as np\n",
        "import itertools\n",
        "from sklearn.metrics import confusion_matrix\n",
        "\n",
        "def plot_confusion_matrix(cm, classes,\n",
        "                          normalize=False,\n",
        "                          title='Confusion matrix',\n",
        "                          cmap=plt.cm.winter):\n",
        "    if normalize:\n",
        "        cm = cm.astype('float') / cm.sum(axis=1)[:, np.newaxis]\n",
        "    plt.imshow(cm, interpolation='nearest', cmap=cmap)\n",
        "    plt.title(title, fontsize=30)\n",
        "    plt.colorbar()\n",
        "    tick_marks = np.arange(len(classes))\n",
        "    plt.xticks(tick_marks, classes, fontsize=20)\n",
        "    plt.yticks(tick_marks, classes, fontsize=20)\n",
        "    \n",
        "    fmt = '.2f' if normalize else 'd'\n",
        "    thresh = cm.max() / 2.\n",
        "\n",
        "    for i, j in itertools.product(range(cm.shape[0]), range(cm.shape[1])):\n",
        "        plt.text(j, i, format(cm[i, j], fmt), horizontalalignment=\"center\", \n",
        "                 color=\"white\" if cm[i, j] < thresh else \"black\", fontsize=40)\n",
        "    \n",
        "    plt.tight_layout()\n",
        "    #plt.ylabel('True label', fontsize=30)\n",
        "    #plt.xlabel('Predicted label', fontsize=30)\n",
        "\n",
        "    return plt"
      ],
      "execution_count": 0,
      "outputs": []
    },
    {
      "metadata": {
        "id": "FvQC8SgNZqcz",
        "colab_type": "code",
        "colab": {},
        "outputId": "bc9493f3-219e-48f4-a40a-e133d78667eb"
      },
      "cell_type": "code",
      "source": [
        "print(Y_test.argmax(axis=1)[0:10])"
      ],
      "execution_count": 0,
      "outputs": [
        {
          "output_type": "stream",
          "text": [
            "[2 2 2 2 2 0 1 2 2 0]\n"
          ],
          "name": "stdout"
        }
      ]
    },
    {
      "metadata": {
        "colab_type": "code",
        "id": "pOVItnRyr1qP",
        "outputId": "4414d056-db14-4b62-a7e9-21acf9afbd7e",
        "colab": {
          "base_uri": "https://localhost:8080/",
          "height": 848
        }
      },
      "cell_type": "code",
      "source": [
        "cm = confusion_matrix(Y_test.argmax(axis=1), prediction.argmax(axis=1), labels = [2,1,0])\n",
        "fig = plt.figure(figsize=(10, 10))\n",
        "plot = plot_confusion_matrix(cm, classes=['Positive','Neutral','Negative'], normalize=False, title='Confusion matrix')\n",
        "plt.show()\n",
        "\n",
        "cm = confusion_matrix(Y_test.argmax(axis=1), prediction.argmax(axis=1), labels = [2,1,0])\n",
        "fig = plt.figure(figsize=(10, 10))\n",
        "plot = plot_confusion_matrix(cm, classes=['Positive','Neutral','Negative'], normalize=True, title='Confusion matrix')\n",
        "plt.show()\n",
        "\n",
        "print(\"Incase we've forgotten\")\n",
        "print(\"Test Data Value Counts:\\n\",test_df['classes_to_predict'].value_counts())"
      ],
      "execution_count": 0,
      "outputs": [
        {
          "output_type": "display_data",
          "data": {
            "image/png": "[encoded data removed]",
            "text/plain": [
              "<Figure size 720x720 with 2 Axes>"
            ]
          },
          "metadata": {
            "tags": [],
            "needs_background": "light"
          }
        },
        {
          "output_type": "display_data",
          "data": {
            "image/png": "[encoded data removed]",
            "text/plain": [
              "<Figure size 720x720 with 2 Axes>"
            ]
          },
          "metadata": {
            "tags": [],
            "needs_background": "light"
          }
        },
        {
          "output_type": "stream",
          "text": [
            "Incase we've forgotten\n",
            "Test Data Value Counts:\n",
            " Positive    35440\n",
            "Negative    13497\n",
            "Neutral      4829\n",
            "Name: classes_to_predict, dtype: int64\n"
          ],
          "name": "stdout"
        }
      ]
    },
    {
      "metadata": {
        "id": "CzrlwTLCZqc9",
        "colab_type": "code",
        "colab": {},
        "outputId": "01985f52-5c55-45ea-89b5-ed01ff5e1716"
      },
      "cell_type": "code",
      "source": [
        "labels = ['Positive','Neutral','Negative']\n",
        "def cm_analysis(y_true, y_pred, ymap=None, figsize=(10,10)):#labels,\n",
        "    \"\"\"\n",
        "    Generate matrix plot of confusion matrix with pretty annotations.\n",
        "    The plot image is saved to disk.\n",
        "    args: \n",
        "      y_true:    true label of the data, with shape (nsamples,)\n",
        "      y_pred:    prediction of the data, with shape (nsamples,)\n",
        "      filename:  filename of figure file to save\n",
        "      labels:    string array, name the order of class labels in the confusion matrix.\n",
        "                 use `clf.classes_` if using scikit-learn models.\n",
        "                 with shape (nclass,).\n",
        "      ymap:      dict: any -> string, length == nclass.\n",
        "                 if not None, map the labels & ys to more understandable strings.\n",
        "                 Caution: original y_true, y_pred and labels must align.\n",
        "      figsize:   the size of the figure plotted.\n",
        "    \"\"\"\n",
        "    if ymap is not None:\n",
        "        y_pred = [ymap[yi] for yi in y_pred]\n",
        "        y_true = [ymap[yi] for yi in y_true]\n",
        "    cm = confusion_matrix(y_true, y_pred, labels=labels)\n",
        "    cm_sum = np.sum(cm, axis=1, keepdims=True)\n",
        "    cm_perc = cm / cm_sum.astype(float) * 100\n",
        "    annot = np.empty_like(cm).astype(str)\n",
        "    nrows, ncols = cm.shape\n",
        "    for i in range(nrows):\n",
        "        for j in range(ncols):\n",
        "            c = cm[i, j]\n",
        "            p = cm_perc[i, j]\n",
        "            if i == j:\n",
        "                s = cm_sum[i]\n",
        "                annot[i, j] = '%.1f%%\\n%d/%d' % (p, c, s)\n",
        "            elif c == 0:\n",
        "                annot[i, j] = ''\n",
        "            else:\n",
        "                annot[i, j] = '%.1f%%\\n%d' % (p, c)\n",
        "\n",
        "    cm = pd.DataFrame(cm, index=labels, columns=labels)\n",
        "    cm.index.name = 'Actual'\n",
        "    cm.columns.name = 'Predicted'\n",
        "    fig, ax = plt.subplots(figsize=figsize)\n",
        "    sns.heatmap(cm, annot=annot, fmt='', ax=ax)\n",
        "    #plt.savefig(filename)\n",
        "    plt.show()\n",
        "\n",
        "cm_analysis(Y_test.argmax(axis=1),prediction.argmax(axis=1), ymap={0:\"Negative\",1:\"Neutral\",2:\"Positive\"}, figsize=(10,10))"
      ],
      "execution_count": 0,
      "outputs": [
        {
          "output_type": "display_data",
          "data": {
            "image/png": "[encoded data removed]",
            "text/plain": [
              "<Figure size 720x720 with 2 Axes>"
            ]
          },
          "metadata": {
            "tags": [],
            "needs_background": "light"
          }
        }
      ]
    },
    {
      "metadata": {
        "_uuid": "e384d59094f116ecbef4dc43b546fd4e853cd1fd",
        "colab_type": "text",
        "id": "EYgNU1Gaaug7"
      },
      "cell_type": "markdown",
      "source": [
        "### Notes: I am very happy with how this LSTM model performed given that this was my first attempt at using one. This notebook was not generated from a template or used from a tutorial."
      ]
    },
    {
      "metadata": {
        "colab_type": "code",
        "id": "ELIgPC0wYEN-",
        "colab": {}
      },
      "cell_type": "code",
      "source": [
        "# Download a file from Google Drive\n",
        "#downloaded = drive.CreateFile({'id': \"1-wo8jSg_vG76oXN8oMh9cICeuCYxGr8v\"})\n",
        "#downloaded.GetContentFile(\"batch_64_epoch_6_10_trained.h5\")"
      ],
      "execution_count": 0,
      "outputs": []
    },
    {
      "metadata": {
        "colab_type": "code",
        "id": "XGWZtiVFYOGC",
        "colab": {}
      },
      "cell_type": "code",
      "source": [
        "# Reload the saved model. \n",
        "#model = load_model('batch_64_epoch_6_10_trained.h5')"
      ],
      "execution_count": 0,
      "outputs": []
    }
  ]
}
